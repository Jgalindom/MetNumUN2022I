{
  "nbformat": 4,
  "nbformat_minor": 0,
  "metadata": {
    "colab": {
      "name": "ArithmeticSeriesGeometricSeriesPowerSums.ipynb.txt",
      "provenance": [],
      "collapsed_sections": []
    },
    "kernelspec": {
      "name": "python3",
      "display_name": "Python 3"
    }
  },
  "cells": [
    {
      "cell_type": "markdown",
      "metadata": {
        "id": "r4rXWI4gCN5B"
      },
      "source": [
        "# Arithmetic Series\n",
        "\n",
        "## Modified from Arithmetic Series -  [Wolfram MathWorld](https://mathworld.wolfram.com/ArithmeticSeries.html) - [wikipedia](https://en.wikipedia.org/wiki/Arithmetic_progression)\n",
        "\n",
        "\n",
        "An arithmetic sequence $\\{a_k\\}$ for $k=1, 2, ..., $ in which each term is computed from the previous one by adding (or subtracting) a constant $d$. \n",
        "\n",
        "\\begin{align*}\n",
        "a_1 & \\\\\n",
        "a_2 &\\ \\ =\\ \\ a_1 + d  \\\\\n",
        "a_3 &\\ \\ =\\ \\ a_2 + d \\ \\ =\\ \\ a_1 + 2d   \\\\\n",
        "a_4 &\\ \\ =\\ \\ a_3 + d \\ \\ =\\ \\ a_2 + 2d \\ \\ =\\ \\ a_1 + 3d  \\\\\n",
        "\\vdots\\\\\n",
        "a_k &\\ \\ =\\ \\ a_{(k-1)}+d \\ =\\  a_{(k-2)}+2d \\ =\\  \\ldots \\ =\\  \\ a_1+(k-1)d\n",
        "\\end{align*}\n",
        "\n",
        "Therefore, for $k>=1$,\n",
        "\n",
        "$$ a_k = a_1 + (k-1)d$$\n",
        "\n",
        "With $a_1$ and $d$ given.\n",
        "\n",
        "<br /> \n",
        "\n",
        "The sequence of the partial sum of the first $n$ terms of a sequence is called a series, in the case of an arithemetic sequence the series is called an arithmetic series.\n",
        "\n",
        "If  $a_1= 1$ and $d=1$ we have, the simplest arithmnetic sequence,  the natural numbers sequence $\\{a_k = k \\}$ for  $k=1, 2, ..., $  i.e. the seuqnece\n",
        "$$1, 2, ...,$$\n",
        "The  corresponding series is \n",
        "$$ \n",
        "S_n = 1 + 2+ \\ldots + (n-1)+ n = \\sum_{k=1}^n k\n",
        "$$\n",
        "can be calculated as a function of $n$.\n",
        "\n",
        "Assume that we allign one $S_{n-1}$ with a second  $S_{n-1}$ that have the terms adden reverse order and you add term to term, we have\n",
        "\\begin{array}{llclclclclc}\n",
        "  S_{n-1} &=& 1 &+& 2 &+& \\ldots &+& (n-2) &+& (n-1) \\\\\n",
        "  S_{n-1} &=& (n-1)  &+& (n-2)  &+& \\ldots   &+& 2   &+& 1 \\\\\n",
        "   \\hline \\\\\n",
        "   2S_{n-1} &=& n  &+& n  &+& \\ldots   &+& n   &+& n \\\\\n",
        "\\end{array}\n",
        "so\n",
        "$$  2S_{n-1} = (n-1)n $$\n",
        "then\n",
        "$$  S_{n-1} = \\frac{1}{2} (n-1)n$$\n",
        "therefore \n",
        "$$  S_{n} = \\frac{1}{2} n(n+1)$$\n",
        "\n",
        "\n",
        "\\begin{align*}\n",
        "S_n &= \\sum_{k=1}^n a_k\t\\\\\n",
        "    &= \\sum_{k=1}^n[a_1+(k-1)d]\t\t\\\\\n",
        "    &= na_1 + d \\sum_{k=1}^n(k-1)\t\\\\\n",
        "    &= na_1 + d \\sum_{k=0}^{n-1} k\t\\\\\n",
        "    &= na_1 + d \\sum_{k=1}^{n-1} k\t\\\\\n",
        "    &= na_1 +  \\frac{1}{2} d(n-1)n\\\\\n",
        "\\end{align*}\n",
        "so \n",
        "$$ S_n =  \\frac{1}{2} n[2 a_1 +d(n-1)].$$\n",
        "\n",
        "Note, however, that\n",
        "$$a_1+a_n=a_1+[a_1+d(n-1)]=2a_1+d(n-1),$$ \t\n",
        "so\n",
        "$$S_n = \\frac{1}{2}n(a_1+a_n),$$\n",
        "\n",
        "\n",
        "or $n$ times the arithmetic mean of the first and last terms! This is the trick Gauss used as a schoolboy to solve the problem of summing the integers from $1$ to $100$ given as busy-work by his teacher. While his classmates toiled away doing the addition longhand, Gauss wrote a single number, the correct answer\n",
        "\n",
        "$$\\frac{1}{2}(100)(1+100)=50·101=5050$$ \t\n",
        "on his slate (Burton 1989, pp. 80-81; Hoffman 1998, p. 207). When the answers were examined, Gauss's proved to be the only correct one.\n",
        "\n",
        "<br /> \n",
        "\n",
        "If  the sequence starts at index $0$, $\\{a_k\\}$ for $ k=0, 1, 2, ..., $ we have\n",
        "\n",
        "\\begin{align*}\n",
        "a_0 & \\\\\n",
        "a_1 &\\ \\ =\\ \\ a_0 + d  \\\\\n",
        "a_2 &\\ \\ =\\ \\ a_1 + d \\ \\ =\\ \\ a_0 + 2d   \\\\\n",
        "a_3 &\\ \\ =\\ \\ a_2 + d \\ \\ =\\ \\ a_1 + 2d \\ \\ =\\ \\ a_0 + 3d  \\\\\n",
        "\\vdots\\\\\n",
        "a_k &\\ \\ =\\ \\ a_{(k-1)}+d \\ =\\  a_{(k-2)}+2d \\ =\\  \\ldots \\ = \\  \\ a_1+(k-1)d \\ \\ =\\ \\ a_0+kd\n",
        "\\end{align*}\n",
        "\n",
        "<br /> \n",
        "for given   $a_0$ and $d$.\n",
        "\n",
        "In this case the sum of the terms between $0$ and $n$ of  the arithemnetic sequence  is then given by\n",
        "\\begin{align*}\n",
        "S_n &= \\sum_{k=0}^{n} a_k\t\\\\\n",
        "    &= \\sum_{k=0}^{n}[a_0+kd]\t\t\\\\\n",
        "    &= (n+1) a_0 + d \\sum_{k=0}^{n} k\t\\\\\n",
        "    &= (n+1) a_0 + d \\sum_{k=1}^{} k\t\\\\\n",
        "    &=(n+1) a_0+  \\frac{1}{2} dn(n+1) \\\\\n",
        "\\end{align*}\n",
        "so \n",
        "$$ S_n =  \\frac{1}{2} (n+1)[2 a_0 + dn].$$\n",
        "<br /> \n",
        "$$ S_n =  \\frac{1}{2} (n+1)[a_0+ a_n].$$\n",
        "\n",
        "\n"
      ]
    },
    {
      "cell_type": "markdown",
      "metadata": {
        "id": "GfBh-QHRcods"
      },
      "source": [
        "### Code\n",
        "####  The simplest arithmetic sequence and series\n",
        "\n",
        "The simplest arithmnetic sequence is \n",
        "\n",
        "\n",
        "$$a_n = 1, 2, ...,$$"
      ]
    },
    {
      "cell_type": "markdown",
      "metadata": {
        "id": "n36eWqEXiktl"
      },
      "source": [
        "The following code plots the first $n = 15$ terms of the simplest arithmnetic sequence \n",
        "$$\\{a_n = n\\} \\text{ for } n =1,2,\\ldots  $$\n",
        "i.e\n",
        "$$\\{a_n = n\\} =1,2,\\ldots $$\n",
        "adn the corresponding terms of the simplest arithmnetic series \n",
        "$$  S_n = 1 + 2+ \\ldots + (n-1)+ n = \\sum_{k=1}^n k=  \\frac{1}{2} n(n+1)$$\n"
      ]
    },
    {
      "cell_type": "markdown",
      "metadata": {
        "id": "_VyGiunIZknK"
      },
      "source": [
        "Plot"
      ]
    },
    {
      "cell_type": "code",
      "metadata": {
        "colab": {
          "base_uri": "https://localhost:8080/",
          "height": 283
        },
        "id": "gx3Q4uo-ONCi",
        "outputId": "ace8323e-31ff-4467-c720-739b33b2557b"
      },
      "source": [
        "import matplotlib.pyplot as plt\n",
        "\n",
        "n = 15\n",
        "S_n = 0\n",
        "Serie_S_n=[]\n",
        "Sequence_a_n =[]\n",
        "for i in range(1,n+1):\n",
        "  S_n = S_n + i\n",
        "  Serie_S_n.append(S_n)\n",
        "  Sequence_a_n.append(i)\n",
        " \n",
        "\n",
        "plt.plot(Serie_S_n, color='black',label='Serie_S_n')\n",
        "plt.plot(Sequence_a_n, color='red',label='Sequence_a_n')\n",
        "plt.legend()\n",
        "\n",
        "\n"
      ],
      "execution_count": null,
      "outputs": [
        {
          "output_type": "execute_result",
          "data": {
            "text/plain": [
              "<matplotlib.legend.Legend at 0x7effd5d0dd50>"
            ]
          },
          "metadata": {},
          "execution_count": 5
        },
        {
          "output_type": "display_data",
          "data": {
            "image/png": "[encoded data removed]",
            "text/plain": [
              "<Figure size 432x288 with 1 Axes>"
            ]
          },
          "metadata": {
            "needs_background": "light"
          }
        }
      ]
    },
    {
      "cell_type": "code",
      "metadata": {
        "colab": {
          "base_uri": "https://localhost:8080/"
        },
        "id": "o2es6b4cysQk",
        "outputId": "2d8875c7-e4c1-49cc-9b38-028475c5f19f"
      },
      "source": [
        "Sequence_a_n"
      ],
      "execution_count": null,
      "outputs": [
        {
          "output_type": "execute_result",
          "data": {
            "text/plain": [
              "[1, 2, 3, 4, 5, 6, 7, 8, 9, 10, 11, 12, 13, 14, 15]"
            ]
          },
          "metadata": {
            "tags": []
          },
          "execution_count": 12
        }
      ]
    },
    {
      "cell_type": "code",
      "metadata": {
        "colab": {
          "base_uri": "https://localhost:8080/"
        },
        "id": "T2VeBOBZ0ibg",
        "outputId": "daaf6544-5edd-4843-a485-505e1a06a3f7"
      },
      "source": [
        "Serie_S_n"
      ],
      "execution_count": null,
      "outputs": [
        {
          "output_type": "execute_result",
          "data": {
            "text/plain": [
              "[1, 3, 6, 10, 15, 21, 28, 36, 45, 55, 66, 78, 91, 105, 120]"
            ]
          },
          "metadata": {
            "tags": []
          },
          "execution_count": 14
        }
      ]
    },
    {
      "cell_type": "markdown",
      "metadata": {
        "id": "0ybfJdHxZGvW"
      },
      "source": [
        "The following code computes the  $n=10000000$  term of the airthmetic series\n",
        "$$  S_n = 1 + 2+ \\ldots + (n-1)+ n = \\sum_{k=1}^n =  \\frac{1}{2} n(n+1)$$"
      ]
    },
    {
      "cell_type": "code",
      "metadata": {
        "colab": {
          "base_uri": "https://localhost:8080/"
        },
        "id": "99xYHDQycnol",
        "outputId": "a21e2f92-385a-4cea-910f-7e32bafd11e4"
      },
      "source": [
        "n = 10000000\n",
        "S_n = 0\n",
        "for i in range(1,n+1):  # range(n+1) goes form 1 to n\n",
        "  S_n = S_n + i \n",
        "print(S_n)"
      ],
      "execution_count": null,
      "outputs": [
        {
          "output_type": "stream",
          "text": [
            "50000005000000\n"
          ],
          "name": "stdout"
        }
      ]
    },
    {
      "cell_type": "code",
      "metadata": {
        "colab": {
          "base_uri": "https://localhost:8080/"
        },
        "id": "RGCSuDGHeFwH",
        "outputId": "e1d60652-ce77-4933-a4dc-fa178257f349"
      },
      "source": [
        "(1/2)*n*(n+1)"
      ],
      "execution_count": null,
      "outputs": [
        {
          "output_type": "execute_result",
          "data": {
            "text/plain": [
              "50000005000000.0"
            ]
          },
          "metadata": {
            "tags": []
          },
          "execution_count": 8
        }
      ]
    },
    {
      "cell_type": "markdown",
      "metadata": {
        "id": "bg8zxAhcecpk"
      },
      "source": [
        "The following code computes the $n=10000000$ term of the airthmetic series \n",
        "$$ S_n  = \\sum_{k=1}^n a_k$$\n",
        "\n",
        "<br /> \n",
        "for the airthmetic sequence $a_k = 10 + 3 (k-1) $ for $k=1,2,\\ldots$\n",
        "\n",
        "<br /> \n",
        "$$ 10,13,16,19,21,\\ldots$$\n"
      ]
    },
    {
      "cell_type": "markdown",
      "metadata": {
        "id": "hg3ixQ3bZiVh"
      },
      "source": [
        "Plot"
      ]
    },
    {
      "cell_type": "code",
      "metadata": {
        "colab": {
          "base_uri": "https://localhost:8080/"
        },
        "id": "w8FP1XqSgnie",
        "outputId": "4a81915d-b3b6-4089-cb05-5a46b03ba87f"
      },
      "source": [
        "n = 10000000\n",
        "a = 10\n",
        "d = 3\n",
        "S_n = 0\n",
        "for i in range(1,n+1):  # range(n+19 goes form 1 to n\n",
        "  a_n = a + d * (i-1) \n",
        "  S_n = S_n + a_n\n",
        "print(S_n)"
      ],
      "execution_count": null,
      "outputs": [
        {
          "output_type": "stream",
          "text": [
            "150000085000000\n"
          ],
          "name": "stdout"
        }
      ]
    },
    {
      "cell_type": "code",
      "metadata": {
        "colab": {
          "base_uri": "https://localhost:8080/"
        },
        "id": "g_38RfB_hgg2",
        "outputId": "088f349a-3f72-4e5d-b977-30b61ddcbb25"
      },
      "source": [
        "n*(2*a +d*(n-1))/2"
      ],
      "execution_count": null,
      "outputs": [
        {
          "output_type": "execute_result",
          "data": {
            "text/plain": [
              "150000085000000.0"
            ]
          },
          "metadata": {
            "tags": []
          },
          "execution_count": 25
        }
      ]
    },
    {
      "cell_type": "code",
      "metadata": {
        "colab": {
          "base_uri": "https://localhost:8080/"
        },
        "id": "zS3qb_xE1u58",
        "outputId": "3a90e3cb-788b-49cc-db02-6b53b4d092d9"
      },
      "source": [
        "n*(a +a_n)/2"
      ],
      "execution_count": null,
      "outputs": [
        {
          "output_type": "execute_result",
          "data": {
            "text/plain": [
              "150000085000000.0"
            ]
          },
          "metadata": {
            "tags": []
          },
          "execution_count": 26
        }
      ]
    },
    {
      "cell_type": "code",
      "metadata": {
        "colab": {
          "base_uri": "https://localhost:8080/",
          "height": 285
        },
        "id": "7qesKez70zub",
        "outputId": "ce3b5f0a-83f6-4d0b-bb3a-cae4b0294083"
      },
      "source": [
        "import matplotlib.pyplot as plt\n",
        "\n",
        "n = 20\n",
        "a = 10\n",
        "d = 3\n",
        "S_n = 0\n",
        "Serie_S_n=[]\n",
        "Sequence_a_n =[]\n",
        "for i in range(1,n+1):  # range(n+19 goes form 1 to n\n",
        "  a_n = a + d * (i-1) \n",
        "  S_n = S_n + a_n\n",
        "  Serie_S_n.append(S_n)\n",
        "  Sequence_a_n.append(a_n)\n",
        "\n",
        "plt.plot(Serie_S_n, color='black',label='Serie_S_n')\n",
        "plt.plot(Sequence_a_n, color='red',label='Sequence_a_n')\n",
        "plt.legend()"
      ],
      "execution_count": 4,
      "outputs": [
        {
          "output_type": "execute_result",
          "data": {
            "text/plain": [
              "<matplotlib.legend.Legend at 0x7fe1494e0910>"
            ]
          },
          "metadata": {},
          "execution_count": 4
        },
        {
          "output_type": "display_data",
          "data": {
            "text/plain": [
              "<Figure size 432x288 with 1 Axes>"
            ],
            "image/png": "[encoded data removed]"
          },
          "metadata": {
            "needs_background": "light"
          }
        }
      ]
    },
    {
      "cell_type": "markdown",
      "metadata": {
        "id": "r9qzONSlZq2q"
      },
      "source": [
        "## Your own example of arithmetic series "
      ]
    },
    {
      "cell_type": "code",
      "metadata": {
        "id": "SrJ_dPxS0pwP",
        "colab": {
          "base_uri": "https://localhost:8080/",
          "height": 283
        },
        "outputId": "1e5034e9-4d56-4f41-b331-4fd92f8a56b3"
      },
      "source": [
        "import matplotlib.pyplot as plt\n",
        "\n",
        "n = 15\n",
        "a = 270\n",
        "d = 2\n",
        "S_n = 2\n",
        "Serie_S_n=[]\n",
        "Sequence_a_n =[]\n",
        "for i in range(1,n+1):  # range(n+19 goes form 1 to n\n",
        "  a_n = a + d * (i-1) \n",
        "  S_n = S_n + a_n\n",
        "  Serie_S_n.append(S_n)\n",
        "  Sequence_a_n.append(a_n)\n",
        "\n",
        "plt.plot(Serie_S_n, color='black',label='Serie_S_n')\n",
        "plt.plot(Sequence_a_n, color='red',label='Sequence_a_n')\n",
        "plt.legend()"
      ],
      "execution_count": 7,
      "outputs": [
        {
          "output_type": "execute_result",
          "data": {
            "text/plain": [
              "<matplotlib.legend.Legend at 0x7fe14937cf50>"
            ]
          },
          "metadata": {},
          "execution_count": 7
        },
        {
          "output_type": "display_data",
          "data": {
            "text/plain": [
              "<Figure size 432x288 with 1 Axes>"
            ],
            "image/png": "[encoded data removed]"
          },
          "metadata": {
            "needs_background": "light"
          }
        }
      ]
    },
    {
      "cell_type": "markdown",
      "metadata": {
        "id": "AKWJ1F7hac8T"
      },
      "source": [
        "# Geometric Series\n",
        "\n",
        "## Modified from Geometric Series -  [Wolfram MathWorld](https://mathworld.wolfram.com/GeometricSeries.html) - [wikipedia](https://en.wikipedia.org/wiki/Geometric_series)\n"
      ]
    },
    {
      "cell_type": "markdown",
      "metadata": {
        "id": "W5zx_-nR81GI"
      },
      "source": [
        "An geometric series is the sum of a sequence $\\{a_k\\}$ for $k=1, 2, ..., $ in which each term is computed from the previous one by adding (or subtracting) a constant $d$. \n",
        "\n",
        "\\begin{align*}\n",
        "a_0 &\\ \\ =\\ \\ r^0 \\ \\ =\\ \\ 1\\\\\n",
        "a_1 &\\ \\ =\\ \\ a_0 *  r \\ \\ =\\ \\  r\\\\\n",
        "a_2 &\\ \\ =\\ \\ a_1 * r\\ \\ =\\ \\ a_0 * r^2  \\ \\ =\\ \\ r^2 \\\\\n",
        "a_3 &\\ \\ =\\ \\ a_2 * r \\ \\ =\\ \\ a_0 * r^3 \\ \\ =\\ \\  r^3  \\\\\n",
        "a_4 &\\ \\ =\\ \\ a_3 * r\\ \\  =\\ \\ a_0 * r^4 \\ \\  =\\ \\ r^4  \\\\\n",
        "\\vdots\\\\\n",
        "a_k &\\ \\ =\\ \\ a_{(k-1)}* r \\ =\\   a_0 * r^k \\ \\  =\\ \\  r^k\n",
        "\\end{align*}\n",
        "\n",
        "The sum of the first $n$ terms  of  the geometric sequence (called an geometric serie)  is then given by\n",
        "$$\n",
        "\\begin{array}{ll}\n",
        "S_n &=  1 + r + r^2 + \\cdots + r^{n-1} +r^n \\\\\n",
        " &=  (1 + r + r^2 + \\cdots + r^{n-1} ) +r^n \\\\\n",
        " &= S_{n-1}  +r^n \n",
        "\\end{array}\n",
        "$$\n",
        "\n",
        "$$\n",
        "\\begin{array}{ll}\n",
        "S_n &=  1 + r + r^2 + \\cdots + r^{n-1} +r^n \\\\\n",
        " &=  1 + (r + r^2 + \\cdots + r^{n-1}  +r^n)  \\\\\n",
        " &=   1 + r (1 +  r  + r^2 + \\cdots + r^{n-1} )  \\\\\n",
        "  &=   1 + r   S_{n-1} \n",
        "\\end{array}\n",
        "$$\n",
        "\n",
        "Then\n",
        "$$\n",
        " S_{n-1}  +r^n =   1 + r   S_{n-1} \n",
        "$$\n",
        "\n",
        "Therefore\n",
        "$$\n",
        " S_{n-1} (1 -r)   +r^n =   1 - r^n \n",
        "$$\n",
        "\n",
        "$$\n",
        " S_{n-1}   =   \\frac{1 - r^n }{1 -r}\n",
        "$$\n",
        "\n",
        "$$\n",
        " S_{n}   =   \\frac{1 - r^{n+1} }{1 -r}  = \\frac{ r^{n+1} - 1}{r -1}\n",
        "$$\n"
      ]
    },
    {
      "cell_type": "markdown",
      "metadata": {
        "id": "CDUYfT8k8crr"
      },
      "source": [
        "## Nodes in Complete Binary Tree with $L=0,1,2,\\cdots , L-1$ levels \n",
        "\n",
        "![](https://raw.githubusercontent.com/gjhernandezp/algorithms/master/Lab7/ComBinTree.png)\n",
        "\n",
        "In a complete binary tree you have in ecah level $k =0,1,2,\\cdots $  $ 2^k $\n",
        "\n",
        "$$\n",
        "\\begin{array}{ll}\n",
        "\\text {Level } 0 \\rightarrow 2^0 = 1 \\text { node (root)} \\\\\n",
        "\\text {Level } 1 \\rightarrow 2^1 = 2 \\text { nodes} \\\\\n",
        "\\text {Level } 2 \\rightarrow 2^2 = 4 \\text { nodes} \\\\\n",
        "\\text {Level } 3 \\rightarrow 2^3 = 8 \\text { nodes} \\\\\n",
        "\\vdots\\\\\n",
        "\\text {Level } k \\rightarrow 2^k  \\text { nodes} \\\\\n",
        "\\end{array}\n",
        "$$\n",
        "\n",
        "nodes, with $l = 0,1,2, ... $ the level\n",
        "\n",
        "Total number of the complte tree with $L=0,1,2,\\cdots , L-1$ levels\n",
        "\n",
        "$$ \n",
        "2^0 + 2^1 + 2^2 + \\cdots +2^{L-1}  = 1 + 2 + 4 + \\cdots +2^{L-1} = \\sum_{k=0}^{L-1} 2^k = \\frac{ 2^{L} - 1}{2 -1} = 2^{L} - 1\n",
        "$$"
      ]
    },
    {
      "cell_type": "markdown",
      "metadata": {
        "id": "YiWlrhLZNMX9"
      },
      "source": [
        "### Code"
      ]
    },
    {
      "cell_type": "code",
      "metadata": {
        "id": "YvMkYU8UNOll",
        "colab": {
          "base_uri": "https://localhost:8080/"
        },
        "outputId": "6b31946d-110c-4801-d3fd-8f96db90ad7c"
      },
      "source": [
        "import matplotlib.pyplot as plt\n",
        "\n",
        "from random import random\n",
        "n = 4\n",
        "r = random()\n",
        "print(\"r = \", r)\n",
        "\n",
        "Geo = (r**(n-1))/(r-1)\n",
        "print(Geo)"
      ],
      "execution_count": 8,
      "outputs": [
        {
          "output_type": "stream",
          "name": "stdout",
          "text": [
            "r =  0.5885279564970061\n",
            "-0.4954056549723374\n"
          ]
        }
      ]
    },
    {
      "cell_type": "markdown",
      "metadata": {
        "id": "Dd3RWDwJe2xD"
      },
      "source": [
        "## Zenon Arrow\n",
        "\n",
        "![](https://raw.githubusercontent.com/gjhernandezp/algorithms/master/Lab7/zeno-paradox-arrow.png)\n",
        "\n",
        "https://leseditionsdeschavonnes.com/2018/10/15/the-paradox-of-achilles-and-the-tortoise/\n",
        "\n",
        "\n",
        "\n",
        "$$ \n",
        "\\lim_{n\\rightarrow \\infty} \\left\\{\\left(\\frac{1}{2}\\right)^0 + \\left(\\frac{1}{2}\\right)^1 +\\left(\\frac{1}{2}\\right)^2 + \\cdots +\\left(\\frac{1}{2}\\right)^{n} \\right\\} = \\lim_{n\\rightarrow \\infty} \\left\\{ 1 +\\frac{1}{2} + \\frac{1}{4} + \\frac{1}{8} + \\cdots +\\frac{1}{2^{n}}\\right\\}  = \\lim_{n\\rightarrow \\infty} \\sum_{k=0}^{n} \\left(\\frac{1}{2}\\right)^k = \\lim_{n\\rightarrow \\infty} \\frac{ 1- \\left(\\frac{1}{2}\\right)^n  }{1 - \\left(\\frac{1}{2}\\right) } = \\frac{ 1}{1 - \\left(\\frac{1}{2}\\right)} = 2\n",
        "$$"
      ]
    },
    {
      "cell_type": "markdown",
      "metadata": {
        "id": "R-J4EekBNPkd"
      },
      "source": [
        "### Code"
      ]
    },
    {
      "cell_type": "code",
      "metadata": {
        "id": "8xdBovY3NEW_",
        "colab": {
          "base_uri": "https://localhost:8080/"
        },
        "outputId": "205208f8-d0d1-41fd-f465-dbed206facda"
      },
      "source": [
        "r=0.5\n",
        "print(\"please enter the amount of Levels that you want to add to your model\")\n",
        "n= int(input())\n",
        "ZN = (1-r**( n + 1 ))/(1-r)\n",
        "\n",
        "print(ZN)\n"
      ],
      "execution_count": 15,
      "outputs": [
        {
          "output_type": "stream",
          "name": "stdout",
          "text": [
            "please enter the amount of Levels that you want to add to your model\n",
            "16\n",
            "1.9999847412109375\n"
          ]
        }
      ]
    },
    {
      "cell_type": "markdown",
      "metadata": {
        "id": "dh2ntBeoNQlN"
      },
      "source": [
        "# Power Sums Power Sums - [Wolfram MathWorld](https://mathworld.wolfram.com/PowerSum.html) - [wikipedia](https://en.wikipedia.org/wiki/Sums_of_powers) - [reserachgate](https://www.researchgate.net/publication/331933608_The_Powers_Sums_Bernoulli_Numbers_Bernoulli_Polynomials_Rethinked)\n",
        "\n"
      ]
    },
    {
      "cell_type": "markdown",
      "source": [
        "There are two kinds of power sums commonly considered. The first is the sum of pth powers of a set of n variables x_k,\n",
        "\n",
        "![image.png](data:image/png;base64,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)"
      ],
      "metadata": {
        "id": "f9DB6JCLc56J"
      }
    },
    {
      "cell_type": "markdown",
      "source": [
        "and the second is the special case x_k=k, i.e.,\n",
        "\n",
        "![image.png](data:image/png;base64,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)"
      ],
      "metadata": {
        "id": "YdN4SAuNdA7X"
      }
    },
    {
      "cell_type": "markdown",
      "source": [
        "General power sums arise commonly in statistics. For example, k-statistics are most commonly defined in terms of power sums. Power sums are related to symmetric polynomials by the Newton-Girard formulas.\n",
        "The sum of k times the kth power of x is given analytically by:\n",
        "\n",
        "![image.png](data:image/png;base64,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)\n"
      ],
      "metadata": {
        "id": "qAAYe9_adGzZ"
      }
    },
    {
      "cell_type": "code",
      "metadata": {
        "id": "2PyxzzOZVIdl",
        "colab": {
          "base_uri": "https://localhost:8080/",
          "height": 313
        },
        "outputId": "96a4dc97-1a12-4ca3-913b-2f187e69047a"
      },
      "source": [
        "PowerS = 1\n",
        "recuento = []\n",
        "\n",
        "for i in range(2, 150):\n",
        "    PowerS = PowerS + i**(3)\n",
        "    recuento.append(PowerS)\n",
        "print(S_n)\n",
        "\n",
        "plt.plot(recuento, color='green')"
      ],
      "execution_count": 19,
      "outputs": [
        {
          "output_type": "stream",
          "name": "stdout",
          "text": [
            "4262\n"
          ]
        },
        {
          "output_type": "execute_result",
          "data": {
            "text/plain": [
              "[<matplotlib.lines.Line2D at 0x7fe14910fad0>]"
            ]
          },
          "metadata": {},
          "execution_count": 19
        },
        {
          "output_type": "display_data",
          "data": {
            "text/plain": [
              "<Figure size 432x288 with 1 Axes>"
            ],
            "image/png": "[encoded data removed]"
          },
          "metadata": {
            "needs_background": "light"
          }
        }
      ]
    },
    {
      "cell_type": "code",
      "source": [
        "PowerS = 1\n",
        "recuento = []\n",
        "\n",
        "for i in range(2, 150):\n",
        "    PowerS = PowerS + i**(0.22)\n",
        "    recuento.append(PowerS)\n",
        "print(S_n)\n",
        "\n",
        "plt.plot(recuento, color='blue')"
      ],
      "metadata": {
        "colab": {
          "base_uri": "https://localhost:8080/",
          "height": 302
        },
        "id": "9D3iTh__c5mx",
        "outputId": "c4ade41c-cb85-4b14-8d6d-65c021f16e34"
      },
      "execution_count": 20,
      "outputs": [
        {
          "output_type": "stream",
          "name": "stdout",
          "text": [
            "4262\n"
          ]
        },
        {
          "output_type": "execute_result",
          "data": {
            "text/plain": [
              "[<matplotlib.lines.Line2D at 0x7fe149105a10>]"
            ]
          },
          "metadata": {},
          "execution_count": 20
        },
        {
          "output_type": "display_data",
          "data": {
            "text/plain": [
              "<Figure size 432x288 with 1 Axes>"
            ],
            "image/png": "[encoded data removed]"
          },
          "metadata": {
            "needs_background": "light"
          }
        }
      ]
    }
  ]
}